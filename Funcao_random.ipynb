{
  "nbformat": 4,
  "nbformat_minor": 0,
  "metadata": {
    "colab": {
      "provenance": [],
      "authorship_tag": "ABX9TyMo6UK48cs1uW/3EbPkPi3C",
      "include_colab_link": true
    },
    "kernelspec": {
      "name": "python3",
      "display_name": "Python 3"
    },
    "language_info": {
      "name": "python"
    }
  },
  "cells": [
    {
      "cell_type": "markdown",
      "metadata": {
        "id": "view-in-github",
        "colab_type": "text"
      },
      "source": [
        "<a href=\"https://colab.research.google.com/github/Rodriggo1987/Analise_com_Python/blob/main/Funcao_random.ipynb\" target=\"_parent\"><img src=\"https://colab.research.google.com/assets/colab-badge.svg\" alt=\"Open In Colab\"/></a>"
      ]
    },
    {
      "cell_type": "code",
      "metadata": {
        "colab": {
          "base_uri": "https://localhost:8080/"
        },
        "id": "NUk-0b-SCuxE",
        "outputId": "c6daefcd-96bd-41ff-9a46-f9aa114d95ef"
      },
      "source": [
        "import random\n",
        "\n",
        "def minha_funcao(frase):\n",
        "  print(frase, mudar_frase)\n",
        "\n",
        "\n",
        "frase = input(\"Digite seu Nome completo AQUI: \")\n",
        "frase = frase.upper()\n",
        "mudar_frase = frase.lower()\n",
        "\n",
        "embaralhar = (frase, mudar_frase)\n",
        "embaralhar = random.shuffle\n",
        "\n",
        "\n",
        "\n",
        "if  (mudar_frase):\n",
        "  print(mudar_frase)\n",
        "\n",
        "else:\n",
        "  print(frase)\n",
        "\n",
        "nome = minha_funcao(\"\\n Este é o resultado em Minúsculo / Maiúsculo: \\n\")\n",
        "embaralhar = minha_funcao(\"\\n Este é o resultado Embaralhado: \\n\")"
      ],
      "execution_count": null,
      "outputs": [
        {
          "output_type": "stream",
          "text": [
            "Digite seu Nome completo AQUI: rodrigo\n",
            "rodrigo\n",
            "\n",
            " Este é o resultado em Minúsculo / Maiúsculo: \n",
            " rodrigo\n",
            "\n",
            " Este é o resultado Embaralhado: \n",
            " rodrigo\n"
          ],
          "name": "stdout"
        }
      ]
    }
  ]
}