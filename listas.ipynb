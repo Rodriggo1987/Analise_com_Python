{
  "nbformat": 4,
  "nbformat_minor": 0,
  "metadata": {
    "colab": {
      "provenance": [],
      "authorship_tag": "ABX9TyMJmSaUTHgk7ZZSncqCPJrp",
      "include_colab_link": true
    },
    "kernelspec": {
      "name": "python3",
      "display_name": "Python 3"
    }
  },
  "cells": [
    {
      "cell_type": "markdown",
      "metadata": {
        "id": "view-in-github",
        "colab_type": "text"
      },
      "source": [
        "<a href=\"https://colab.research.google.com/github/Rodriggo1987/Analise_com_Python/blob/main/listas.ipynb\" target=\"_parent\"><img src=\"https://colab.research.google.com/assets/colab-badge.svg\" alt=\"Open In Colab\"/></a>"
      ]
    },
    {
      "cell_type": "code",
      "metadata": {
        "id": "KN08aNZ2YzTG"
      },
      "source": [
        "\n",
        "# Exercico 1\n",
        "lista = [1,2,3,4,5,6,7,8,9,10]\n",
        "print(lista)\n",
        "\n",
        "# Exercico 2\n",
        "\n",
        "lista = ['chocolate', 'banana', 'abacaxi', 'uva', 'morango'  ]\n",
        "print(lista)\n",
        "\n",
        "# Exercico 3\n",
        "\n",
        "frase1 = 'Se beber'\n",
        "frase2 = 'não dirija!'\n",
        "frase_final = frase1 + frase2\n",
        "print(frase_final)\n",
        "\n",
        "# Exercico 4\n",
        "\n",
        "\n",
        "tuple1 = (1,2,2,3,4,4,4,5)\n",
        "tuple1.count(4)\n",
        "\n",
        "\n",
        "dict3 ={}\n",
        "print(dict3)\n",
        "\n",
        "dict = {'K1':'martelo', 'K2': 'serrote', 'K3':'machado' }\n",
        "print(dict)\n",
        "\n",
        "\n",
        "dict['K4'] = 'parafuso'\n",
        "print(dict)\n",
        "\n",
        "\n",
        "\n",
        "\n",
        "\n",
        "\n",
        "\n"
      ],
      "execution_count": null,
      "outputs": []
    }
  ]
}