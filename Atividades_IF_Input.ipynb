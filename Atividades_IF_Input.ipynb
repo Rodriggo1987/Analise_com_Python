{
  "nbformat": 4,
  "nbformat_minor": 0,
  "metadata": {
    "colab": {
      "provenance": [],
      "authorship_tag": "ABX9TyMdiLq53QSjvpUdhmsK9qyO",
      "include_colab_link": true
    },
    "kernelspec": {
      "name": "python3",
      "display_name": "Python 3"
    },
    "language_info": {
      "name": "python"
    }
  },
  "cells": [
    {
      "cell_type": "markdown",
      "metadata": {
        "id": "view-in-github",
        "colab_type": "text"
      },
      "source": [
        "<a href=\"https://colab.research.google.com/github/Rodriggo1987/Analise_com_Python/blob/main/Atividades_IF_Input.ipynb\" target=\"_parent\"><img src=\"https://colab.research.google.com/assets/colab-badge.svg\" alt=\"Open In Colab\"/></a>"
      ]
    },
    {
      "cell_type": "markdown",
      "source": [
        "Input no **Python**"
      ],
      "metadata": {
        "id": "Yrj1otIcEHZe"
      }
    },
    {
      "cell_type": "code",
      "execution_count": 1,
      "metadata": {
        "colab": {
          "base_uri": "https://localhost:8080/"
        },
        "id": "o5gZ9P4lHxJx",
        "outputId": "b087e918-eea1-4ad9-9d49-f566da3d5928"
      },
      "outputs": [
        {
          "output_type": "stream",
          "name": "stdout",
          "text": [
            "Ola meu nome é Rodrigo  Nascimento.\n"
          ]
        }
      ],
      "source": [
        "nome = 'Rodrigo '\n",
        "sobrenome = 'Nascimento'\n",
        "nome_completo = f'Ola meu nome é {nome} {sobrenome}.'\n",
        "print(nome_completo)"
      ]
    },
    {
      "cell_type": "code",
      "source": [
        "nome = input('Digite seu Nome:'' ')\n",
        "sobrenome = input('Digite seu Sobrenome:'' ')\n",
        "idade = input('Digite sua Idade:')\n",
        "cidade = input('Cidade de Nascimento:')\n",
        "cadastro = 'Seu cadastro está pronto!' ' ' +nome+ ' ' +sobrenome+ ' ' +idade+ ' ' +cidade+ '.'\n",
        "print(cadastro)\n",
        "\n"
      ],
      "metadata": {
        "id": "92ew05S2IPMB"
      },
      "execution_count": null,
      "outputs": []
    },
    {
      "cell_type": "markdown",
      "source": [
        "**Condições**"
      ],
      "metadata": {
        "id": "604H7F1XEO__"
      }
    },
    {
      "cell_type": "code",
      "source": [
        "idade = int(input('Digite sua idade: '))\n",
        "if idade >= 10 and idade < 20:\n",
        "    print('Você é adolescente')\n",
        "elif idade >= 20 and idade < 30:\n",
        "    print('Você é jovem')\n",
        "elif idade >= 30 and idade <= 100:\n",
        "    print('Você é adulto')\n",
        "elif idade >=60 and idade <= 110:\n",
        "    print('Voce é idoso')\n",
        "else:\n",
        "    print('Valor não encontrado!')"
      ],
      "metadata": {
        "colab": {
          "base_uri": "https://localhost:8080/"
        },
        "id": "5PpetYVRQE_3",
        "outputId": "2705c5bb-c4f0-49c4-aadf-15b70d43b547"
      },
      "execution_count": null,
      "outputs": [
        {
          "output_type": "stream",
          "name": "stdout",
          "text": [
            "Digite sua idade: 60\n",
            "Você é adulto\n"
          ]
        }
      ]
    },
    {
      "cell_type": "code",
      "source": [
        "nome = 'Eduardo'\n",
        "nome[6] = 'a'\n",
        "\n",
        "print(nome)"
      ],
      "metadata": {
        "id": "wOGodiByUYqF"
      },
      "execution_count": null,
      "outputs": []
    },
    {
      "cell_type": "code",
      "source": [
        "kg_picanha = 30.00\n",
        "kg_file = 34.00\n",
        "\n"
      ],
      "metadata": {
        "id": "S5QGODZwWNFj"
      },
      "execution_count": null,
      "outputs": []
    },
    {
      "cell_type": "code",
      "source": [
        "idade = int(input('Digite sua idade: '))\n",
        "\n",
        "if idade >= 35:\n",
        "\n",
        " print(\"Você tem idade para ser presidente\")\n",
        "else:\n",
        " print(\"Você não tem idade para ser presidente\")"
      ],
      "metadata": {
        "colab": {
          "base_uri": "https://localhost:8080/"
        },
        "id": "FHYmx98TZy4p",
        "outputId": "8fa1042a-222c-4ea1-d10d-57f142d600e0"
      },
      "execution_count": null,
      "outputs": [
        {
          "output_type": "stream",
          "name": "stdout",
          "text": [
            "Digite sua idade: 35\n",
            "Você tem idade para ser presidente\n"
          ]
        }
      ]
    },
    {
      "cell_type": "code",
      "source": [
        "nome_completo = 'Sandra Alves Miranda'\n",
        "\n",
        "print(len(nome_completo))\n"
      ],
      "metadata": {
        "colab": {
          "base_uri": "https://localhost:8080/"
        },
        "id": "IK45i5tlapvM",
        "outputId": "7715c5ee-6367-48f3-e261-7d41748bc04c"
      },
      "execution_count": null,
      "outputs": [
        {
          "output_type": "stream",
          "name": "stdout",
          "text": [
            "20\n"
          ]
        }
      ]
    },
    {
      "cell_type": "code",
      "source": [
        "a = 15\n",
        "b = 10\n",
        "\n",
        "soma = a + b\n",
        "\n",
        "\n",
        "if soma > 25:\n",
        "    print('A soma de a e b é maior que 25')\n",
        "else:\n",
        "    print('A soma de a e b não é maior que 25')"
      ],
      "metadata": {
        "colab": {
          "base_uri": "https://localhost:8080/"
        },
        "id": "0aBGo82XbSpa",
        "outputId": "92bf12c2-1925-4470-aa0a-908aedf23d4b"
      },
      "execution_count": null,
      "outputs": [
        {
          "output_type": "stream",
          "name": "stdout",
          "text": [
            "A soma de a e b não é maior que 25\n"
          ]
        }
      ]
    },
    {
      "cell_type": "code",
      "source": [
        "premio = False\n",
        "\n",
        "pontos = 110\n",
        "desafios = 15\n",
        "\n",
        "if pontos > 120 = desafios >= 13:\n",
        "\n",
        "   premio = True\n",
        "\n",
        "print(premio)"
      ],
      "metadata": {
        "id": "rQpWxC9pcm35"
      },
      "execution_count": null,
      "outputs": []
    },
    {
      "cell_type": "code",
      "source": [
        "nota_1 = 3\n",
        "nota_2 = 8\n",
        "nota_3 = 10\n",
        "nota_4 = 6\n",
        "\n",
        "media = ( nota_1 + nota_2 + nota_3 + nota_4 ) / 4\n",
        "\n",
        "if media >= 7:\n",
        "   print('Aprovado')\n",
        "else:\n",
        "   print('Reprovado')"
      ],
      "metadata": {
        "colab": {
          "base_uri": "https://localhost:8080/"
        },
        "id": "Ead58JoNePcu",
        "outputId": "56272082-527d-4f68-af45-5abd68f50740"
      },
      "execution_count": null,
      "outputs": [
        {
          "output_type": "stream",
          "name": "stdout",
          "text": [
            "Reprovado\n"
          ]
        }
      ]
    },
    {
      "cell_type": "code",
      "source": [
        "equipe_a = 35\n",
        "equipe_b = 28\n",
        "\n",
        "if equipe_a > equipe_b:\n",
        "    print(\"A equipe A pontuou mais\")\n",
        "elif equipe_b > equipe_a:\n",
        "    print(\"A equipe B pontuou mais\")\n",
        "else:\n",
        "\n",
        "    print(id(\"As equipes fizeram os mesmos pontos\")"
      ],
      "metadata": {
        "id": "CzLTrLePf3K_"
      },
      "execution_count": null,
      "outputs": []
    },
    {
      "cell_type": "code",
      "source": [
        "saldo_em_conta = 300\n",
        "valor_do_saque = 200\n",
        "pode_sascar_saldo = saldo_em_conta <= valor_do_saque\n",
        "print(pode_sascar_saldo)\n"
      ],
      "metadata": {
        "colab": {
          "base_uri": "https://localhost:8080/"
        },
        "id": "qGOKej6Job7a",
        "outputId": "2a5cf89b-a36b-4c75-f730-b3c8100a695a"
      },
      "execution_count": null,
      "outputs": [
        {
          "output_type": "stream",
          "name": "stdout",
          "text": [
            "False\n"
          ]
        }
      ]
    }
  ]
}